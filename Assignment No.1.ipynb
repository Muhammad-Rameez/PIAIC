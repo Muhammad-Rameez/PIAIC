{
 "cells": [
  {
   "cell_type": "code",
   "execution_count": 15,
   "metadata": {},
   "outputs": [
    {
     "name": "stdout",
     "output_type": "stream",
     "text": [
      "enter the radius of the circle: 0.5\n",
      "0.785\n"
     ]
    }
   ],
   "source": [
    "#Question#1\n",
    "r = input (\"enter the radius of the circle: \")\n",
    "r=float (r)\n",
    "area_of_circle = (3.14*r**2)\n",
    "print (area_of_circle)"
   ]
  },
  {
   "cell_type": "code",
   "execution_count": 19,
   "metadata": {},
   "outputs": [
    {
     "name": "stdout",
     "output_type": "stream",
     "text": [
      "enter the number to check whethere the number is positive , negative or zero0\n",
      "The number is Zero\n"
     ]
    }
   ],
   "source": [
    "#Question#2\n",
    "A = input (\"enter the number to check whethere the number is positive , negative or zero\")\n",
    "A = int (A)\n",
    "if A>0 :\n",
    "    print(\"Positive Number Entered\")\n",
    "elif A<0 :\n",
    "    print(\"Negative Number entered\")\n",
    "else :\n",
    "    print(\"Zero Entered\")\n"
   ]
  },
  {
   "cell_type": "code",
   "execution_count": 24,
   "metadata": {},
   "outputs": [
    {
     "name": "stdout",
     "output_type": "stream",
     "text": [
      "Enter Numerator : 5\n",
      "Enter Denominator : 2\n",
      "Number  5  is not completely Divisible by  2\n"
     ]
    }
   ],
   "source": [
    "#Question #3\n",
    "A= input (\"Enter Numerator : \")\n",
    "B= input (\"Enter Denominator : \")\n",
    "A= int (A)\n",
    "B= int (B)\n",
    "if A%B==0:\n",
    "    print(\"Number \",A,\" is completely Divisible by \",B)\n",
    "else:\n",
    "    print(\"Number \",A,\" is not completely Divisible by \",B)\n",
    "    "
   ]
  },
  {
   "cell_type": "code",
   "execution_count": 36,
   "metadata": {},
   "outputs": [
    {
     "name": "stdout",
     "output_type": "stream",
     "text": [
      "Enter a date in (dd/mm/yy) format : 12/12/2018\n",
      "Enter a date in (dd/mm/yy) format : 16/12/2018\n",
      "There are  4  in between 12/12/2018 and 16/12/2018\n"
     ]
    }
   ],
   "source": [
    "#Question #4\n",
    "print(\"Enter a date in (dd/mm/yy) format : 12/12/2018\")\n",
    "print(\"Enter a date in (dd/mm/yy) format : 16/12/2018\")\n",
    "from datetime import date\n",
    "f_date = date(18,12,12)\n",
    "l_date = date(18,12,16)\n",
    "delta= l_date-f_date\n",
    "print(\"There are \", delta.days,\" in between 12/12/2018 and 16/12/2018\")"
   ]
  },
  {
   "cell_type": "code",
   "execution_count": 38,
   "metadata": {},
   "outputs": [
    {
     "name": "stdout",
     "output_type": "stream",
     "text": [
      "Enter Radius of sphere: 3\n",
      "Volume of the sphere it Radius 3  is  0.5233333333333333\n"
     ]
    }
   ],
   "source": [
    "#Question #5\n",
    "R = input (\"Enter Radius of sphere: \")\n",
    "R=int(R)\n",
    "V=4/3*3.14*r**3\n",
    "print(\"Volume of the sphere it Radius\",R,\" is \",V)"
   ]
  },
  {
   "cell_type": "code",
   "execution_count": 43,
   "metadata": {},
   "outputs": [
    {
     "name": "stdout",
     "output_type": "stream",
     "text": [
      "Enter string: Hi\n",
      "How many copies of String you need: 4\n",
      "HiHiHiHi"
     ]
    }
   ],
   "source": [
    "#Question #6\n",
    "R= input(\"Enter string: \")\n",
    "V=input (\"How many copies of String you need: \")\n",
    "V=int (V)\n",
    "for n in range (V):\n",
    "    print(R,end=\"\")"
   ]
  },
  {
   "cell_type": "code",
   "execution_count": 45,
   "metadata": {},
   "outputs": [
    {
     "name": "stdout",
     "output_type": "stream",
     "text": [
      "Enter number: 3\n",
      "3  is Odd\n"
     ]
    }
   ],
   "source": [
    "#Question #7\n",
    "A= int (input (\"Enter number: \"))\n",
    "if A%2==0:\n",
    "    print(A,\" is Even\")\n",
    "else :\n",
    "    print(A,\" is Odd\")"
   ]
  },
  {
   "cell_type": "code",
   "execution_count": 91,
   "metadata": {},
   "outputs": [
    {
     "name": "stdout",
     "output_type": "stream",
     "text": [
      "Enter a Character: N\n",
      "Letter N  is not a Vowel\n"
     ]
    }
   ],
   "source": [
    "#Question # 8\n",
    "A= input (\"Enter a Character: \")\n",
    "if A == \"a\":\n",
    "    print(\"Letter\", A, \" is a Vowel\")\n",
    "elif A==\"A\":\n",
    "    print(\"Letter\", A, \" is a Vowel\")\n",
    "elif A == \"e\":\n",
    "    print(\"Letter\", A, \" is a Vowel\")\n",
    "elif A==\"E\":\n",
    "    print(\"Letter\", A, \" is a Vowel\")\n",
    "elif A == \"i\":\n",
    "    print(\"Letter\", A, \" is a Vowel\")\n",
    "elif A==\"I\":\n",
    "    print(\"Letter\", A, \" is a Vowel\")\n",
    "elif A == \"o\":\n",
    "    print(\"Letter\", A, \" is a Vowel\")\n",
    "elif A==\"O\":\n",
    "    print(\"Letter\", A, \" is a Vowel\")\n",
    "elif A == \"u\":\n",
    "    print(\"Letter\", A, \" is a Vowel\")\n",
    "elif A==\"U\":\n",
    "    print(\"Letter\", A, \" is a Vowel\")\n",
    "else:\n",
    "    print(\"Letter\", A, \" is not a Vowel\")"
   ]
  },
  {
   "cell_type": "code",
   "execution_count": 94,
   "metadata": {},
   "outputs": [
    {
     "name": "stdout",
     "output_type": "stream",
     "text": [
      "Enter magnitute of Triangle Base: 2\n",
      "Enter magnitute of Triangle Height: 3\n",
      "Area of triangle with Height 3  and Base  2  is  3.0\n"
     ]
    }
   ],
   "source": [
    "#Question#9\n",
    "B = int (input (\"Enter magnitute of Triangle Base: \"))\n",
    "H = int (input (\"Enter magnitute of Triangle Height: \"))\n",
    "A = 1/2*B* H\n",
    "print(\"Area of triangle with Height\",H,\" and Base \", B, \" is \",A)\n"
   ]
  },
  {
   "cell_type": "code",
   "execution_count": 103,
   "metadata": {},
   "outputs": [
    {
     "name": "stdout",
     "output_type": "stream",
     "text": [
      "Please enter principle amount: 10000\n",
      "Please enter Rate of interst in %: 0.1\n",
      "Enter number of years for investment5\n",
      "16105.100000000008\n"
     ]
    }
   ],
   "source": [
    "#Question#10\n",
    "A=int(input(\"Please enter principle amount: \"))\n",
    "b= float (input(\"Please enter Rate of interst in %: \"))\n",
    "c= int (input(\"Enter number of years for investment\"))\n",
    "for l in range(c):\n",
    "    A=A*(1+b)\n",
    "print (A)\n",
    "    "
   ]
  },
  {
   "cell_type": "code",
   "execution_count": 114,
   "metadata": {},
   "outputs": [
    {
     "name": "stdout",
     "output_type": "stream",
     "text": [
      "Enter Co-ordinate for x1: 2\n",
      "Enter Co-ordinate for x2: 4\n",
      "Enter Co-ordinate for y1: 4\n",
      "Enter Co-ordinate for y2: 4\n",
      "2.0\n"
     ]
    }
   ],
   "source": [
    "#Question # 11\n",
    "import math\n",
    "x1= int(input(\"Enter Co-ordinate for x1: \"))\n",
    "x2= int(input(\"Enter Co-ordinate for x2: \"))\n",
    "y1= int(input(\"Enter Co-ordinate for y1: \"))\n",
    "y2= int(input(\"Enter Co-ordinate for y2: \"))\n",
    "z=(x2-x1)**2+(y2-y1)**2\n",
    "Dist= math.sqrt(z)\n",
    "print(Dist)\n"
   ]
  },
  {
   "cell_type": "code",
   "execution_count": 116,
   "metadata": {},
   "outputs": [
    {
     "name": "stdout",
     "output_type": "stream",
     "text": [
      "Enter Height in feet: 5\n",
      "There are  152.4  Cm in  5  ft\n"
     ]
    }
   ],
   "source": [
    "#Question # 12\n",
    "x1= int(input(\"Enter Height in feet: \"))\n",
    "c=30.48* x1\n",
    "print(\"There are \",c,\" Cm in \",x1,\" ft\")"
   ]
  },
  {
   "cell_type": "code",
   "execution_count": 118,
   "metadata": {},
   "outputs": [
    {
     "name": "stdout",
     "output_type": "stream",
     "text": [
      "Enter Height in Cm: 180\n",
      "Enter Weight in Kgs: 75\n",
      "23.148148148148145\n"
     ]
    }
   ],
   "source": [
    "#Question # 13\n",
    "h= int(input(\"Enter Height in Cm: \"))\n",
    "w= int(input(\"Enter Weight in Kgs: \"))\n",
    "BMI = w/(h/100)**2\n",
    "print(\"Your BMI is \", BMI )"
   ]
  },
  {
   "cell_type": "code",
   "execution_count": 122,
   "metadata": {},
   "outputs": [
    {
     "name": "stdout",
     "output_type": "stream",
     "text": [
      "Enter value of n: 5\n",
      "Sum of n Positive integers till 5  is 15\n"
     ]
    }
   ],
   "source": [
    "#Question # 14\n",
    "A=0\n",
    "n=int(input(\"Enter value of n: \"))\n",
    "for i in range(n+1):\n",
    "    A=A+i\n",
    "print(\"Sum of n Positive integers till\", n ,\" is\",A)"
   ]
  },
  {
   "cell_type": "code",
   "execution_count": 136,
   "metadata": {},
   "outputs": [
    {
     "name": "stdout",
     "output_type": "stream",
     "text": [
      "Enter a number: 123\n",
      "6\n"
     ]
    }
   ],
   "source": [
    "#Question # 15\n",
    "# taking number\n",
    "num = input(\"Enter a number: \")\n",
    "\n",
    "b=0\n",
    "for i in num:\n",
    "    b=b+int(i)\n",
    "print(b)\n"
   ]
  },
  {
   "cell_type": "code",
   "execution_count": 86,
   "metadata": {},
   "outputs": [
    {
     "name": "stdout",
     "output_type": "stream",
     "text": [
      "1101"
     ]
    }
   ],
   "source": [
    "#Question # 16\n",
    "n=int (13)\n",
    "b=[]\n",
    "while n>0:\n",
    "    a=n%2\n",
    "    n=n//2\n",
    "    b.append(a)\n",
    "for i in b[::-1]:\n",
    "    print(i,end=\"\")\n"
   ]
  },
  {
   "cell_type": "code",
   "execution_count": 96,
   "metadata": {},
   "outputs": [
    {
     "name": "stdout",
     "output_type": "stream",
     "text": [
      "enter a binary number101\n",
      "5\n"
     ]
    }
   ],
   "source": [
    "#Question # 17\n",
    "x=input(\"enter a binary number\")\n",
    "b=0\n",
    "j=len(x)-1\n",
    "for i in x:\n",
    "    b=b+(int(i)*(2**j))\n",
    "    j=j-1\n",
    "print(b)"
   ]
  },
  {
   "cell_type": "code",
   "execution_count": 105,
   "metadata": {},
   "outputs": [
    {
     "name": "stdout",
     "output_type": "stream",
     "text": [
      "Enter the phrasequickbownfox\n",
      "Vowels:  4\n",
      "Consonents:  8\n"
     ]
    }
   ],
   "source": [
    "#Question # 18\n",
    "x= input(\"Enter the phrase\")\n",
    "vowels =[\"a\",\"e\",\"i\",\"o\",\"u\",\"A\",\"E\",\"I\",\"O\",\"U\"]\n",
    "a=len(x)\n",
    "b=0\n",
    "for i in x:\n",
    "    for j in vowels:\n",
    "        if j==i:\n",
    "            b=b+1\n",
    "C=a-b\n",
    "print(\"Vowels: \",b)\n",
    "print(\"Consonents: \",C)"
   ]
  },
  {
   "cell_type": "markdown",
   "metadata": {},
   "source": [
    "\n"
   ]
  },
  {
   "cell_type": "markdown",
   "metadata": {},
   "source": [
    "##### "
   ]
  },
  {
   "cell_type": "code",
   "execution_count": 107,
   "metadata": {},
   "outputs": [
    {
     "name": "stdout",
     "output_type": "stream",
     "text": [
      "Text is Palindrome\n"
     ]
    }
   ],
   "source": [
    "#Question#19\n",
    "a=\"aha\"\n",
    "b=[]\n",
    "for x in a:\n",
    "    b.append(x)\n",
    "if b[::] == b[::-1]:\n",
    "    print(\"Text is Palindrome\")\n",
    "else:\n",
    "    print(\"Text is not Palindrome\")\n"
   ]
  },
  {
   "cell_type": "code",
   "execution_count": 22,
   "metadata": {},
   "outputs": [
    {
     "name": "stdout",
     "output_type": "stream",
     "text": [
      "Enter the textPython 3.2\n",
      "Numbers=  2\n",
      "Alphabets=  6\n",
      "Special Characters=  1\n",
      "Spaces=  1\n"
     ]
    }
   ],
   "source": [
    "#Question#20\n",
    "Alphabets=[\"a\",\"b\",\"c\",\"d\",\"e\",\"f\",\"g\",\"h\",\"i\",\"j\",\"k\",\"l\",\",m\",\"n\",\"o\",\"p\",\"q\",\"r\",\"s\",\"t\",\"u\",\"v\",\"w\",\"x\",\"y\",\"z\"]\n",
    "numbers=[\"1\",\"2\",\"3\",\"4\",\"5\",\"6\",\"7\",\"8\",\"9\",\"0\"]\n",
    "spaces=[\" \"]\n",
    "SC=[\".\",\"@\"]\n",
    "x=input(\"Enter the text: \")\n",
    "x=x.lower()\n",
    "a=0\n",
    "b=0\n",
    "c=0\n",
    "d=0\n",
    "\n",
    "for i in x:\n",
    "    for j in Alphabets:\n",
    "        if i==j:\n",
    "            a=a+1\n",
    "        \n",
    "for i in x:\n",
    "    for j in numbers:\n",
    "        if i==j:\n",
    "            b=b+1\n",
    "        \n",
    "for i in x:\n",
    "    for j in spaces:\n",
    "        if i==j:\n",
    "            c=c+1\n",
    "\n",
    "for i in x:\n",
    "    for j in SC:\n",
    "        if i==j:\n",
    "            d=d+1\n",
    "        \n",
    "print(\"Numbers= \",b)\n",
    "print(\"Alphabets= \",a)\n",
    "print(\"Special Characters= \",d)\n",
    "print(\"Spaces= \",c)"
   ]
  },
  {
   "cell_type": "code",
   "execution_count": 27,
   "metadata": {},
   "outputs": [
    {
     "name": "stdout",
     "output_type": "stream",
     "text": [
      "*\n",
      "**\n",
      "***\n",
      "****\n",
      "*****\n",
      "****\n",
      "***\n",
      "**\n",
      "*\n"
     ]
    }
   ],
   "source": [
    "x=[1,2,3,4,5,6]\n",
    "for i in range(1,6):\n",
    "    print(\"*\"*i)\n",
    "\n",
    "for i in x[3::-1]:\n",
    "    print(\"*\"*i)"
   ]
  },
  {
   "cell_type": "markdown",
   "metadata": {},
   "source": []
  },
  {
   "cell_type": "code",
   "execution_count": 46,
   "metadata": {},
   "outputs": [
    {
     "name": "stdout",
     "output_type": "stream",
     "text": [
      "1\n",
      "22\n",
      "333\n",
      "4444\n",
      "55555\n",
      "666666\n",
      "7777777\n",
      "88888888\n",
      "999999999\n"
     ]
    }
   ],
   "source": [
    "lst=[1,2,3,4,5,6]\n",
    "for i in range(1,10):\n",
    "    print(str(i)*i)"
   ]
  },
  {
   "cell_type": "code",
   "execution_count": null,
   "metadata": {},
   "outputs": [],
   "source": []
  }
 ],
 "metadata": {
  "kernelspec": {
   "display_name": "Python 3",
   "language": "python",
   "name": "python3"
  },
  "language_info": {
   "codemirror_mode": {
    "name": "ipython",
    "version": 3
   },
   "file_extension": ".py",
   "mimetype": "text/x-python",
   "name": "python",
   "nbconvert_exporter": "python",
   "pygments_lexer": "ipython3",
   "version": "3.7.3"
  }
 },
 "nbformat": 4,
 "nbformat_minor": 2
}
